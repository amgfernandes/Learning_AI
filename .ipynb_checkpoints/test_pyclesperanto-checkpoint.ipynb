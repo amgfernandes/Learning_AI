{
 "cells": [
  {
   "cell_type": "markdown",
   "id": "b02c1e8b",
   "metadata": {},
   "source": [
    "# Based on https://github.com/clEsperanto/pyclesperanto_prototype/blob/master/demo/basics/count_blobs.ipynb"
   ]
  },
  {
   "cell_type": "code",
   "execution_count": 1,
   "id": "6e83f69c",
   "metadata": {},
   "outputs": [],
   "source": [
    "import pyclesperanto_prototype as cle\n",
    "\n",
    "from skimage.io import imread, imsave, imshow\n",
    "import matplotlib\n",
    "import numpy as np\n"
   ]
  },
  {
   "cell_type": "code",
   "execution_count": 2,
   "id": "6ec7d76a",
   "metadata": {},
   "outputs": [
    {
     "name": "stdout",
     "output_type": "stream",
     "text": [
      "Available OpenCL devices:['Intel(R) Core(TM) i9-9880H CPU @ 2.30GHz', 'Intel(R) UHD Graphics 630', 'AMD Radeon Pro 5500M Compute Engine']\n",
      "Available GPU OpenCL devices:['Intel(R) UHD Graphics 630', 'AMD Radeon Pro 5500M Compute Engine']\n"
     ]
    }
   ],
   "source": [
    "# list names of all available OpenCL-devices\n",
    "print(\"Available OpenCL devices:\" + str(cle.available_device_names()))\n",
    "\n",
    "# list CPUs and GPUs separately\n",
    "gpu_devices = cle.available_device_names(dev_type=\"gpu\")\n",
    "print(\"Available GPU OpenCL devices:\" + str(gpu_devices))"
   ]
  },
  {
   "cell_type": "code",
   "execution_count": 3,
   "id": "a8d6fdef",
   "metadata": {},
   "outputs": [
    {
     "name": "stdout",
     "output_type": "stream",
     "text": [
      "Available CPU OpenCL devices:['Intel(R) Core(TM) i9-9880H CPU @ 2.30GHz']\n"
     ]
    }
   ],
   "source": [
    "cpu_devices = cle.available_device_names(dev_type=\"cpu\")\n",
    "print(\"Available CPU OpenCL devices:\" + str(cpu_devices))"
   ]
  },
  {
   "cell_type": "code",
   "execution_count": 7,
   "id": "6159adad",
   "metadata": {},
   "outputs": [
    {
     "name": "stdout",
     "output_type": "stream",
     "text": [
      "Used GPU: AMD Radeon Pro 5500M Compute Engine\n"
     ]
    }
   ],
   "source": [
    "# initialize GPU\n",
    "cle.select_device(\"AMD\")\n",
    "print(\"Used GPU: \" + cle.get_device().name)"
   ]
  },
  {
   "cell_type": "code",
   "execution_count": 8,
   "id": "84b0405b",
   "metadata": {},
   "outputs": [
    {
     "name": "stdout",
     "output_type": "stream",
     "text": [
      "Loaded image size: (254, 256)\n",
      "Image size in GPU: (254, 256)\n"
     ]
    }
   ],
   "source": [
    "# load data\n",
    "image = imread('https://samples.fiji.sc/blobs.png')\n",
    "print(\"Loaded image size: \" + str(image.shape))\n",
    "\n",
    "# push image to GPU memory\n",
    "input = cle.push(image)\n",
    "print(\"Image size in GPU: \" + str(input.shape))"
   ]
  },
  {
   "cell_type": "code",
   "execution_count": 10,
   "id": "7345f241",
   "metadata": {},
   "outputs": [
    {
     "data": {
      "image/png": "[encoded data removed]",
      "text/plain": [
       "<Figure size 432x288 with 1 Axes>"
      ]
     },
     "metadata": {
      "needs_background": "light"
     },
     "output_type": "display_data"
    },
    {
     "name": "stdout",
     "output_type": "stream",
     "text": [
      "Number of objects in the image: 63.0\n"
     ]
    }
   ],
   "source": [
    "# process the image\n",
    "blurred = cle.gaussian_blur(input, sigma_x=1, sigma_y=1)\n",
    "binary = cle.threshold_otsu(blurred)\n",
    "\n",
    "# connected component analysis\n",
    "labeled = cle.connected_components_labeling_box(binary)\n",
    "\n",
    "# show result\n",
    "cle.imshow(labeled, labels=True)\n",
    "\n",
    "# The maxmium intensity in a label image corresponds to the number of objects\n",
    "num_labels = cle.maximum_of_all_pixels(labeled)\n",
    "print(\"Number of objects in the image: \" + str(num_labels))"
   ]
  },
  {
   "cell_type": "code",
   "execution_count": 11,
   "id": "73959b45",
   "metadata": {},
   "outputs": [
    {
     "data": {
      "image/png": "[encoded data removed]",
      "text/plain": [
       "<Figure size 432x288 with 1 Axes>"
      ]
     },
     "metadata": {
      "needs_background": "light"
     },
     "output_type": "display_data"
    },
    {
     "name": "stdout",
     "output_type": "stream",
     "text": [
      "Number of objects in the image: 63.0\n"
     ]
    }
   ],
   "source": [
    "blurred = cle.gaussian_blur(input, blurred, sigma_x=1, sigma_y=1)\n",
    "binary = cle.threshold_otsu(blurred, binary)\n",
    "labeled = cle.connected_components_labeling_box(binary, labeled)\n",
    "\n",
    "# show result\n",
    "cmap = matplotlib.colors.ListedColormap ( np.random.rand ( 256,3))\n",
    "cle.imshow(labeled, labels=True)\n",
    "\n",
    "# The maxmium intensity in a label image corresponds to the number of objects\n",
    "num_labels = cle.maximum_of_all_pixels(labeled)\n",
    "print(\"Number of objects in the image: \" + str(num_labels))"
   ]
  },
  {
   "cell_type": "code",
   "execution_count": 12,
   "id": "08d546a6",
   "metadata": {},
   "outputs": [
    {
     "data": {
      "image/png": "[encoded data removed]",
      "text/plain": [
       "<Figure size 432x288 with 1 Axes>"
      ]
     },
     "metadata": {
      "needs_background": "light"
     },
     "output_type": "display_data"
    },
    {
     "name": "stdout",
     "output_type": "stream",
     "text": [
      "Number of objects in the image: 45.0\n"
     ]
    }
   ],
   "source": [
    "# Exclude Labels On Edges\n",
    "labels_excl_edges = cle.exclude_labels_on_edges(labeled)\n",
    "\n",
    "# show result\n",
    "cmap = matplotlib.colors.ListedColormap ( np.random.rand ( 256,3))\n",
    "cle.imshow(labels_excl_edges, labels=True)\n",
    "\n",
    "# The maxmium intensity in a label image corresponds to the number of objects\n",
    "num_labels = cle.maximum_of_all_pixels(labels_excl_edges)\n",
    "print(\"Number of objects in the image: \" + str(num_labels))"
   ]
  },
  {
   "cell_type": "code",
   "execution_count": null,
   "id": "66a91c3c",
   "metadata": {},
   "outputs": [],
   "source": []
  }
 ],
 "metadata": {
  "kernelspec": {
   "display_name": "bioimage",
   "language": "python",
   "name": "bioimage"
  },
  "language_info": {
   "codemirror_mode": {
    "name": "ipython",
    "version": 3
   },
   "file_extension": ".py",
   "mimetype": "text/x-python",
   "name": "python",
   "nbconvert_exporter": "python",
   "pygments_lexer": "ipython3",
   "version": "3.8.5"
  }
 },
 "nbformat": 4,
 "nbformat_minor": 5
}
