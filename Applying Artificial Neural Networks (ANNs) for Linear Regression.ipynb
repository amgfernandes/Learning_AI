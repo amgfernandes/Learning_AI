{
 "cells": [
  {
   "cell_type": "code",
   "execution_count": 1,
   "metadata": {},
   "outputs": [
    {
     "data": {
      "text/plain": [
       "'Source \\nhttps://sdsclub.com/applying-artificial-neural-networks-anns-for-linear-regression-yay-or-nay/'"
      ]
     },
     "execution_count": 1,
     "metadata": {},
     "output_type": "execute_result"
    }
   ],
   "source": [
    "'''Source \n",
    "https://sdsclub.com/applying-artificial-neural-networks-anns-for-linear-regression-yay-or-nay/'''"
   ]
  },
  {
   "cell_type": "markdown",
   "metadata": {},
   "source": [
    "# Linear Regression Using Tensorflow"
   ]
  },
  {
   "cell_type": "code",
   "execution_count": 11,
   "metadata": {},
   "outputs": [],
   "source": [
    "import numpy as np\n",
    "import tensorflow as tf\n",
    "import matplotlib.pyplot as plt"
   ]
  },
  {
   "cell_type": "code",
   "execution_count": 12,
   "metadata": {},
   "outputs": [],
   "source": [
    "#Sets the global random seed.\n",
    "np.random.seed(101)\n",
    "tf.random.set_seed(101)"
   ]
  },
  {
   "cell_type": "code",
   "execution_count": 88,
   "metadata": {},
   "outputs": [],
   "source": [
    "'''Generate random linear data'''\n",
    "x=np.linspace(0,50,50)\n",
    "y=np.linspace(0,50,50)\n",
    "\n",
    "'''add some noise to the data'''\n",
    "x+=np.random.uniform(-4,4,50)\n",
    "y+=np.random.uniform(-4,4,50)\n",
    "\n",
    "n=len(x)#Number of data points"
   ]
  },
  {
   "cell_type": "code",
   "execution_count": 89,
   "metadata": {},
   "outputs": [
    {
     "data": {
      "text/plain": [
       "Text(0.5, 1.0, 'training data')"
      ]
     },
     "execution_count": 89,
     "metadata": {},
     "output_type": "execute_result"
    },
    {
     "data": {
      "image/png": "[encoded data removed]",
      "text/plain": [
       "<Figure size 432x288 with 1 Axes>"
      ]
     },
     "metadata": {
      "needs_background": "light"
     },
     "output_type": "display_data"
    }
   ],
   "source": [
    "'''plot data'''\n",
    "plt.scatter(x,y)\n",
    "plt.xlabel('x')\n",
    "plt.ylabel('y')\n",
    "plt.title('training data')"
   ]
  },
  {
   "cell_type": "code",
   "execution_count": 32,
   "metadata": {},
   "outputs": [
    {
     "name": "stdout",
     "output_type": "stream",
     "text": [
      "WARNING:tensorflow:From /Users/fernandes/anaconda3/envs/ML/lib/python3.7/site-packages/tensorflow_core/python/compat/v2_compat.py:88: disable_resource_variables (from tensorflow.python.ops.variable_scope) is deprecated and will be removed in a future version.\n",
      "Instructions for updating:\n",
      "non-resource variables are not supported in the long term\n"
     ]
    }
   ],
   "source": [
    "'''original code was using tf1 and not tf2'''\n",
    "import tensorflow.compat.v1 as tf\n",
    "tf.disable_v2_behavior()\n",
    "X = tf.placeholder(\"float\")\n",
    "Y = tf.placeholder(\"float\")"
   ]
  },
  {
   "cell_type": "code",
   "execution_count": 33,
   "metadata": {},
   "outputs": [],
   "source": [
    "W =tf.Variable(np.random.randn(), name='W')\n",
    "b =tf.Variable(np.random.randn(), name='b')"
   ]
  },
  {
   "cell_type": "code",
   "execution_count": 43,
   "metadata": {},
   "outputs": [],
   "source": [
    "learning_rate=0.01\n",
    "training_epochs=1000"
   ]
  },
  {
   "cell_type": "code",
   "execution_count": 40,
   "metadata": {},
   "outputs": [],
   "source": [
    "# Hypothesis\n",
    "y_pred = tf.add(tf.multiply(X,W),b)\n",
    "\n",
    "# Mean Squared Error Cost function\n",
    "cost= tf.reduce_sum(tf.pow(y_pred-Y,2))/(2 * n)\n",
    "\n",
    "# Gradient Descent optimizer\n",
    "optimizer= tf.train.GradientDescentOptimizer(learning_rate).minimize(cost)\n",
    "\n",
    "init = tf.global_variables_initializer()"
   ]
  },
  {
   "cell_type": "code",
   "execution_count": 48,
   "metadata": {},
   "outputs": [
    {
     "name": "stdout",
     "output_type": "stream",
     "text": [
      "Epoch 50 :cost= 5.9889617 W= 1.0130897 b= -0.31213334\n",
      "Epoch 100 :cost= 5.9846263 W= 1.0118152 b= -0.24954872\n",
      "Epoch 150 :cost= 5.9818363 W= 1.010674 b= -0.1935087\n",
      "Epoch 200 :cost= 5.9802117 W= 1.009652 b= -0.14332935\n",
      "Epoch 250 :cost= 5.9794636 W= 1.0087371 b= -0.09839738\n",
      "Epoch 300 :cost= 5.979356 W= 1.0079178 b= -0.05816405\n",
      "Epoch 350 :cost= 5.9797087 W= 1.007184 b= -0.02213798\n",
      "Epoch 400 :cost= 5.9803886 W= 1.0065272 b= 0.01012063\n",
      "Epoch 450 :cost= 5.981286 W= 1.0059389 b= 0.03900586\n",
      "Epoch 500 :cost= 5.9823246 W= 1.0054122 b= 0.06487047\n",
      "Epoch 550 :cost= 5.9834423 W= 1.0049406 b= 0.08803028\n",
      "Epoch 600 :cost= 5.984591 W= 1.0045183 b= 0.10876833\n",
      "Epoch 650 :cost= 5.9857373 W= 1.00414 b= 0.12733771\n",
      "Epoch 700 :cost= 5.986863 W= 1.0038015 b= 0.14396499\n",
      "Epoch 750 :cost= 5.987949 W= 1.0034983 b= 0.15885356\n",
      "Epoch 800 :cost= 5.988979 W= 1.0032268 b= 0.17218527\n",
      "Epoch 850 :cost= 5.989956 W= 1.0029837 b= 0.18412285\n",
      "Epoch 900 :cost= 5.990867 W= 1.002766 b= 0.19481188\n",
      "Epoch 950 :cost= 5.9917164 W= 1.0025711 b= 0.20438322\n",
      "Epoch 1000 :cost= 5.9924994 W= 1.0023965 b= 0.21295343\n"
     ]
    }
   ],
   "source": [
    "with tf.Session() as sess:\n",
    "    #initializing variables\n",
    "    sess.run(init)\n",
    "    \n",
    "    #iterating through all epochs\n",
    "    for epoch in range(training_epochs):\n",
    "        for (_x,_y)in zip (x,y):\n",
    "            sess.run(optimizer, feed_dict = {X:_x, Y:_y})\n",
    "        if (epoch +1) % 50==0:\n",
    "            c=sess.run(cost, feed_dict={X:x,Y:y})\n",
    "            print (\"Epoch\", (epoch + 1), \":cost=\",c,\n",
    "                   \"W=\", sess.run(W),\n",
    "                  \"b=\", sess.run(b))\n",
    "    training_cost=sess.run(cost,feed_dict={X:x,Y:y})\n",
    "    weight = sess.run(W)\n",
    "    bias=sess.run(b)\n",
    "    \n",
    "                                "
   ]
  },
  {
   "cell_type": "code",
   "execution_count": 97,
   "metadata": {},
   "outputs": [
    {
     "name": "stdout",
     "output_type": "stream",
     "text": [
      "Training cost= 5.9924994 weight= 1.0023965 Bias= 0.21295343\n"
     ]
    }
   ],
   "source": [
    "# Calculating the predictions\n",
    "predictions = weight * x +bias\n",
    "print (\"Training cost=\", training_cost,\n",
    "      \"weight=\", weight, \"Bias=\", bias)"
   ]
  },
  {
   "cell_type": "code",
   "execution_count": 101,
   "metadata": {},
   "outputs": [
    {
     "data": {
      "text/plain": [
       "<matplotlib.legend.Legend at 0x1a387e0350>"
      ]
     },
     "execution_count": 101,
     "metadata": {},
     "output_type": "execute_result"
    },
    {
     "data": {
      "image/png": "[encoded data removed]",
      "text/plain": [
       "<Figure size 432x288 with 1 Axes>"
      ]
     },
     "metadata": {
      "needs_background": "light"
     },
     "output_type": "display_data"
    }
   ],
   "source": [
    "# plot results\n",
    "\n",
    "plt.plot(x,y,'ro', label=\"orIginal data\")\n",
    "plt.plot(x, predictions, label='fit')\n",
    "plt.title('Linear regression with Artificial Neural Networks')\n",
    "plt.legend()"
   ]
  }
 ],
 "metadata": {
  "kernelspec": {
   "display_name": "ML",
   "language": "python",
   "name": "ml"
  },
  "language_info": {
   "codemirror_mode": {
    "name": "ipython",
    "version": 3
   },
   "file_extension": ".py",
   "mimetype": "text/x-python",
   "name": "python",
   "nbconvert_exporter": "python",
   "pygments_lexer": "ipython3",
   "version": "3.7.7"
  }
 },
 "nbformat": 4,
 "nbformat_minor": 4
}
